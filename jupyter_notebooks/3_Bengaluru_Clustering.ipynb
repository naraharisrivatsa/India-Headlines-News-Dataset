{
 "cells": [
  {
   "cell_type": "markdown",
   "metadata": {},
   "source": [
    "# Bengaluru News Headlines, from 2001 to 2020 : Clustering"
   ]
  },
  {
   "cell_type": "markdown",
   "metadata": {},
   "source": [
    "## 1. Initial setup"
   ]
  },
  {
   "cell_type": "code",
   "execution_count": 1,
   "metadata": {},
   "outputs": [],
   "source": [
    "import time"
   ]
  },
  {
   "cell_type": "code",
   "execution_count": 2,
   "metadata": {},
   "outputs": [],
   "source": [
    "# Total Notebook Run: Start Time\n",
    "total_time_start = time.time()"
   ]
  },
  {
   "cell_type": "markdown",
   "metadata": {},
   "source": [
    "### 1.1. Importing required packages and variables"
   ]
  },
  {
   "cell_type": "code",
   "execution_count": 3,
   "metadata": {},
   "outputs": [],
   "source": [
    "import os\n",
    "\n",
    "import random\n",
    "\n",
    "import numpy as np\n",
    "import pandas as pd\n",
    "\n",
    "import spacy\n",
    "\n",
    "from sklearn.feature_extraction import text\n",
    "\n",
    "from wordcloud import WordCloud\n",
    "import matplotlib.pyplot as plt\n",
    "\n",
    "import plotly.express as px"
   ]
  },
  {
   "cell_type": "code",
   "execution_count": 4,
   "metadata": {},
   "outputs": [],
   "source": [
    "# Google Colab Essentials\n",
    "\n",
    "#from google.colab import drive\n",
    "#drive.mount(\"/content/drive\")"
   ]
  },
  {
   "cell_type": "code",
   "execution_count": 5,
   "metadata": {},
   "outputs": [],
   "source": [
    "# Loading environment variables\n",
    "%load_ext dotenv\n",
    "%dotenv"
   ]
  },
  {
   "cell_type": "markdown",
   "metadata": {},
   "source": [
    "### 1.2. Code runtime measurement"
   ]
  },
  {
   "cell_type": "code",
   "execution_count": 6,
   "metadata": {},
   "outputs": [],
   "source": [
    "def compute_time_difference(time_start, time_end):\n",
    "    \"\"\"\n",
    "    Function compute_time_difference: To compute time difference between the two provided timestamps\n",
    "    @param time_start: Start time\n",
    "    @param time_end: End time\n",
    "    @return: time difference string\n",
    "    \"\"\"\n",
    "    \n",
    "    # Computing time difference\n",
    "    time_diff = time_end - time_start\n",
    "    \n",
    "    # Initializing time string to store time in seconds\n",
    "    time_str = str(round(time_diff, 4))+\" seconds\"\n",
    "    \n",
    "    # Checking if the seconds value amounts to more than a minute\n",
    "    if time_diff > 60:\n",
    "        time_str = str(round(time_diff/60, 4))+\" minutes\"\n",
    "        \n",
    "    # Returning time difference string\n",
    "    return time_str"
   ]
  },
  {
   "cell_type": "markdown",
   "metadata": {},
   "source": [
    "### 1.3. Loading NLP model"
   ]
  },
  {
   "cell_type": "code",
   "execution_count": 7,
   "metadata": {},
   "outputs": [],
   "source": [
    "time_start = time.time()"
   ]
  },
  {
   "cell_type": "code",
   "execution_count": 8,
   "metadata": {},
   "outputs": [],
   "source": [
    "# Spacy essentials\n",
    "\n",
    "# Run below commands in the Anaconda prompt for the first time setup\n",
    "#python -m spacy download en_core_web_md\n",
    "#python -m spacy link en_core_web_md en_md\n",
    "\n",
    "# Spacy English language model of medium size\n",
    "nlp_en = spacy.load(\"en_md\")\n",
    "spacy_stopwords = spacy.lang.en.stop_words.STOP_WORDS"
   ]
  },
  {
   "cell_type": "code",
   "execution_count": 9,
   "metadata": {},
   "outputs": [
    {
     "name": "stdout",
     "output_type": "stream",
     "text": [
      "Time taken to load the spacy model and stopwords into memory: 3.0618 seconds\n"
     ]
    }
   ],
   "source": [
    "time_end = time.time()\n",
    "print(\"Time taken to load the spacy model and stopwords into memory: \"+compute_time_difference(time_start, time_end))"
   ]
  },
  {
   "cell_type": "markdown",
   "metadata": {},
   "source": [
    "## 2. Data Analysis and Clustering"
   ]
  },
  {
   "cell_type": "markdown",
   "metadata": {},
   "source": [
    "### 2.1. Obtaining dataframes from csv files"
   ]
  },
  {
   "cell_type": "code",
   "execution_count": 10,
   "metadata": {},
   "outputs": [],
   "source": [
    "# CSV file import from local path\n",
    "news_df = pd.read_csv(os.environ[\"FILE_PATH\"])"
   ]
  },
  {
   "cell_type": "code",
   "execution_count": 11,
   "metadata": {},
   "outputs": [],
   "source": [
    "# Google drive import for Google Colab\n",
    "#news_df = pd.read_csv(\"/content/drive/MyDrive/<rel_path>\")"
   ]
  },
  {
   "cell_type": "markdown",
   "metadata": {},
   "source": [
    "### 2.2. Filtering subset of data and sanity"
   ]
  },
  {
   "cell_type": "code",
   "execution_count": 12,
   "metadata": {},
   "outputs": [],
   "source": [
    "bng_news_df = news_df.loc[news_df[\"headline_category\"]==\"city.bengaluru\"]"
   ]
  },
  {
   "cell_type": "code",
   "execution_count": 13,
   "metadata": {
    "scrolled": false
   },
   "outputs": [
    {
     "name": "stdout",
     "output_type": "stream",
     "text": [
      "Data dimensions:\n"
     ]
    },
    {
     "data": {
      "text/plain": [
       "(91857, 3)"
      ]
     },
     "execution_count": 13,
     "metadata": {},
     "output_type": "execute_result"
    }
   ],
   "source": [
    "print(\"Data dimensions:\")\n",
    "bng_news_df.shape"
   ]
  },
  {
   "cell_type": "code",
   "execution_count": 14,
   "metadata": {},
   "outputs": [
    {
     "name": "stdout",
     "output_type": "stream",
     "text": [
      "Data types:\n"
     ]
    },
    {
     "data": {
      "text/plain": [
       "publish_date          int64\n",
       "headline_category    object\n",
       "headline_text        object\n",
       "dtype: object"
      ]
     },
     "execution_count": 14,
     "metadata": {},
     "output_type": "execute_result"
    }
   ],
   "source": [
    "print(\"Data types:\")\n",
    "bng_news_df.dtypes"
   ]
  },
  {
   "cell_type": "code",
   "execution_count": 15,
   "metadata": {},
   "outputs": [
    {
     "name": "stdout",
     "output_type": "stream",
     "text": [
      "First few entries:\n"
     ]
    },
    {
     "data": {
      "text/html": [
       "<div>\n",
       "<style scoped>\n",
       "    .dataframe tbody tr th:only-of-type {\n",
       "        vertical-align: middle;\n",
       "    }\n",
       "\n",
       "    .dataframe tbody tr th {\n",
       "        vertical-align: top;\n",
       "    }\n",
       "\n",
       "    .dataframe thead th {\n",
       "        text-align: right;\n",
       "    }\n",
       "</style>\n",
       "<table border=\"1\" class=\"dataframe\">\n",
       "  <thead>\n",
       "    <tr style=\"text-align: right;\">\n",
       "      <th></th>\n",
       "      <th>publish_date</th>\n",
       "      <th>headline_category</th>\n",
       "      <th>headline_text</th>\n",
       "    </tr>\n",
       "  </thead>\n",
       "  <tbody>\n",
       "    <tr>\n",
       "      <th>274</th>\n",
       "      <td>20010104</td>\n",
       "      <td>city.bengaluru</td>\n",
       "      <td>Three in race for chief secy's post</td>\n",
       "    </tr>\n",
       "    <tr>\n",
       "      <th>278</th>\n",
       "      <td>20010104</td>\n",
       "      <td>city.bengaluru</td>\n",
       "      <td>He's not so inscrutable</td>\n",
       "    </tr>\n",
       "    <tr>\n",
       "      <th>4428</th>\n",
       "      <td>20010518</td>\n",
       "      <td>city.bengaluru</td>\n",
       "      <td>Don't take that biscuit; you dope</td>\n",
       "    </tr>\n",
       "    <tr>\n",
       "      <th>4429</th>\n",
       "      <td>20010518</td>\n",
       "      <td>city.bengaluru</td>\n",
       "      <td>'I've done my bit when it comes to preparing'</td>\n",
       "    </tr>\n",
       "    <tr>\n",
       "      <th>4436</th>\n",
       "      <td>20010518</td>\n",
       "      <td>city.bengaluru</td>\n",
       "      <td>He is etched in the chapters of Bangalore</td>\n",
       "    </tr>\n",
       "  </tbody>\n",
       "</table>\n",
       "</div>"
      ],
      "text/plain": [
       "      publish_date headline_category  \\\n",
       "274       20010104    city.bengaluru   \n",
       "278       20010104    city.bengaluru   \n",
       "4428      20010518    city.bengaluru   \n",
       "4429      20010518    city.bengaluru   \n",
       "4436      20010518    city.bengaluru   \n",
       "\n",
       "                                      headline_text  \n",
       "274             Three in race for chief secy's post  \n",
       "278                         He's not so inscrutable  \n",
       "4428              Don't take that biscuit; you dope  \n",
       "4429  'I've done my bit when it comes to preparing'  \n",
       "4436      He is etched in the chapters of Bangalore  "
      ]
     },
     "execution_count": 15,
     "metadata": {},
     "output_type": "execute_result"
    }
   ],
   "source": [
    "print(\"First few entries:\")\n",
    "bng_news_df.head()"
   ]
  },
  {
   "cell_type": "code",
   "execution_count": 16,
   "metadata": {},
   "outputs": [
    {
     "name": "stdout",
     "output_type": "stream",
     "text": [
      "Last few entries:\n"
     ]
    },
    {
     "data": {
      "text/html": [
       "<div>\n",
       "<style scoped>\n",
       "    .dataframe tbody tr th:only-of-type {\n",
       "        vertical-align: middle;\n",
       "    }\n",
       "\n",
       "    .dataframe tbody tr th {\n",
       "        vertical-align: top;\n",
       "    }\n",
       "\n",
       "    .dataframe thead th {\n",
       "        text-align: right;\n",
       "    }\n",
       "</style>\n",
       "<table border=\"1\" class=\"dataframe\">\n",
       "  <thead>\n",
       "    <tr style=\"text-align: right;\">\n",
       "      <th></th>\n",
       "      <th>publish_date</th>\n",
       "      <th>headline_category</th>\n",
       "      <th>headline_text</th>\n",
       "    </tr>\n",
       "  </thead>\n",
       "  <tbody>\n",
       "    <tr>\n",
       "      <th>3296799</th>\n",
       "      <td>20200630</td>\n",
       "      <td>city.bengaluru</td>\n",
       "      <td>Covid-19: Bengaluru's 738 fresh cases take Kar...</td>\n",
       "    </tr>\n",
       "    <tr>\n",
       "      <th>3296812</th>\n",
       "      <td>20200630</td>\n",
       "      <td>city.bengaluru</td>\n",
       "      <td>Now; apartments in Bengaluru offer their facil...</td>\n",
       "    </tr>\n",
       "    <tr>\n",
       "      <th>3296823</th>\n",
       "      <td>20200630</td>\n",
       "      <td>city.bengaluru</td>\n",
       "      <td>Karnataka: Many bristle over cap on online cla...</td>\n",
       "    </tr>\n",
       "    <tr>\n",
       "      <th>3297158</th>\n",
       "      <td>20200630</td>\n",
       "      <td>city.bengaluru</td>\n",
       "      <td>what bengaluru can do to tackle covid surge</td>\n",
       "    </tr>\n",
       "    <tr>\n",
       "      <th>3297161</th>\n",
       "      <td>20200630</td>\n",
       "      <td>city.bengaluru</td>\n",
       "      <td>karnataka may adopt keralas triple lockdown plan</td>\n",
       "    </tr>\n",
       "  </tbody>\n",
       "</table>\n",
       "</div>"
      ],
      "text/plain": [
       "         publish_date headline_category  \\\n",
       "3296799      20200630    city.bengaluru   \n",
       "3296812      20200630    city.bengaluru   \n",
       "3296823      20200630    city.bengaluru   \n",
       "3297158      20200630    city.bengaluru   \n",
       "3297161      20200630    city.bengaluru   \n",
       "\n",
       "                                             headline_text  \n",
       "3296799  Covid-19: Bengaluru's 738 fresh cases take Kar...  \n",
       "3296812  Now; apartments in Bengaluru offer their facil...  \n",
       "3296823  Karnataka: Many bristle over cap on online cla...  \n",
       "3297158        what bengaluru can do to tackle covid surge  \n",
       "3297161   karnataka may adopt keralas triple lockdown plan  "
      ]
     },
     "execution_count": 16,
     "metadata": {},
     "output_type": "execute_result"
    }
   ],
   "source": [
    "print(\"Last few entries:\")\n",
    "bng_news_df.tail()"
   ]
  },
  {
   "cell_type": "code",
   "execution_count": 17,
   "metadata": {},
   "outputs": [
    {
     "name": "stdout",
     "output_type": "stream",
     "text": [
      "Columnar statistics:\n"
     ]
    },
    {
     "data": {
      "text/html": [
       "<div>\n",
       "<style scoped>\n",
       "    .dataframe tbody tr th:only-of-type {\n",
       "        vertical-align: middle;\n",
       "    }\n",
       "\n",
       "    .dataframe tbody tr th {\n",
       "        vertical-align: top;\n",
       "    }\n",
       "\n",
       "    .dataframe thead th {\n",
       "        text-align: right;\n",
       "    }\n",
       "</style>\n",
       "<table border=\"1\" class=\"dataframe\">\n",
       "  <thead>\n",
       "    <tr style=\"text-align: right;\">\n",
       "      <th></th>\n",
       "      <th>publish_date</th>\n",
       "      <th>headline_category</th>\n",
       "      <th>headline_text</th>\n",
       "    </tr>\n",
       "  </thead>\n",
       "  <tbody>\n",
       "    <tr>\n",
       "      <th>count</th>\n",
       "      <td>9.185700e+04</td>\n",
       "      <td>91857</td>\n",
       "      <td>91857</td>\n",
       "    </tr>\n",
       "    <tr>\n",
       "      <th>unique</th>\n",
       "      <td>NaN</td>\n",
       "      <td>1</td>\n",
       "      <td>91189</td>\n",
       "    </tr>\n",
       "    <tr>\n",
       "      <th>top</th>\n",
       "      <td>NaN</td>\n",
       "      <td>city.bengaluru</td>\n",
       "      <td>Kid falls from school's compound wall; dies</td>\n",
       "    </tr>\n",
       "    <tr>\n",
       "      <th>freq</th>\n",
       "      <td>NaN</td>\n",
       "      <td>91857</td>\n",
       "      <td>5</td>\n",
       "    </tr>\n",
       "    <tr>\n",
       "      <th>mean</th>\n",
       "      <td>2.010946e+07</td>\n",
       "      <td>NaN</td>\n",
       "      <td>NaN</td>\n",
       "    </tr>\n",
       "    <tr>\n",
       "      <th>std</th>\n",
       "      <td>5.806729e+04</td>\n",
       "      <td>NaN</td>\n",
       "      <td>NaN</td>\n",
       "    </tr>\n",
       "    <tr>\n",
       "      <th>min</th>\n",
       "      <td>2.001010e+07</td>\n",
       "      <td>NaN</td>\n",
       "      <td>NaN</td>\n",
       "    </tr>\n",
       "    <tr>\n",
       "      <th>25%</th>\n",
       "      <td>2.006073e+07</td>\n",
       "      <td>NaN</td>\n",
       "      <td>NaN</td>\n",
       "    </tr>\n",
       "    <tr>\n",
       "      <th>50%</th>\n",
       "      <td>2.012011e+07</td>\n",
       "      <td>NaN</td>\n",
       "      <td>NaN</td>\n",
       "    </tr>\n",
       "    <tr>\n",
       "      <th>75%</th>\n",
       "      <td>2.016082e+07</td>\n",
       "      <td>NaN</td>\n",
       "      <td>NaN</td>\n",
       "    </tr>\n",
       "    <tr>\n",
       "      <th>max</th>\n",
       "      <td>2.020063e+07</td>\n",
       "      <td>NaN</td>\n",
       "      <td>NaN</td>\n",
       "    </tr>\n",
       "  </tbody>\n",
       "</table>\n",
       "</div>"
      ],
      "text/plain": [
       "        publish_date headline_category  \\\n",
       "count   9.185700e+04             91857   \n",
       "unique           NaN                 1   \n",
       "top              NaN    city.bengaluru   \n",
       "freq             NaN             91857   \n",
       "mean    2.010946e+07               NaN   \n",
       "std     5.806729e+04               NaN   \n",
       "min     2.001010e+07               NaN   \n",
       "25%     2.006073e+07               NaN   \n",
       "50%     2.012011e+07               NaN   \n",
       "75%     2.016082e+07               NaN   \n",
       "max     2.020063e+07               NaN   \n",
       "\n",
       "                                      headline_text  \n",
       "count                                         91857  \n",
       "unique                                        91189  \n",
       "top     Kid falls from school's compound wall; dies  \n",
       "freq                                              5  \n",
       "mean                                            NaN  \n",
       "std                                             NaN  \n",
       "min                                             NaN  \n",
       "25%                                             NaN  \n",
       "50%                                             NaN  \n",
       "75%                                             NaN  \n",
       "max                                             NaN  "
      ]
     },
     "execution_count": 17,
     "metadata": {},
     "output_type": "execute_result"
    }
   ],
   "source": [
    "print(\"Columnar statistics:\")\n",
    "bng_news_df.describe(include=\"all\")"
   ]
  },
  {
   "cell_type": "code",
   "execution_count": 18,
   "metadata": {},
   "outputs": [
    {
     "name": "stdout",
     "output_type": "stream",
     "text": [
      "Checking for null values:\n"
     ]
    },
    {
     "data": {
      "text/plain": [
       "publish_date         0\n",
       "headline_category    0\n",
       "headline_text        0\n",
       "dtype: int64"
      ]
     },
     "execution_count": 18,
     "metadata": {},
     "output_type": "execute_result"
    }
   ],
   "source": [
    "print(\"Checking for null values:\")\n",
    "bng_news_df.isnull().sum()"
   ]
  },
  {
   "cell_type": "markdown",
   "metadata": {},
   "source": [
    "### 2.3. Data Clustering"
   ]
  },
  {
   "cell_type": "markdown",
   "metadata": {},
   "source": [
    "### 2.3.2. Getting sentence vectors after preprocessing"
   ]
  },
  {
   "cell_type": "code",
   "execution_count": 19,
   "metadata": {},
   "outputs": [],
   "source": [
    "def is_token_allowed(token):\n",
    "    \"\"\"\n",
    "    Only allow valid tokens which are not stop words\n",
    "    and punctuation symbols.\n",
    "    \"\"\"\n",
    "    if (not token or not token.string.strip() or\n",
    "        token.is_stop or token.is_punct):\n",
    "        return False\n",
    "    return True\n",
    "\n",
    "def preprocess_token(token):\n",
    "    \"\"\"\n",
    "    Reduce token to its lowercase lemma form\n",
    "    \"\"\"\n",
    "    return token.lemma_.strip().lower()"
   ]
  },
  {
   "cell_type": "code",
   "execution_count": 20,
   "metadata": {},
   "outputs": [],
   "source": [
    "# 10K Samples List: Headlines that constitutes bag of words\n",
    "# Sampling is done for faster code execution\n",
    "random.seed(56)\n",
    "bng_news_text = random.sample(bng_news_df[\"headline_text\"].tolist(), k=10000)"
   ]
  },
  {
   "cell_type": "code",
   "execution_count": 21,
   "metadata": {},
   "outputs": [],
   "source": [
    "time_start = time.time()"
   ]
  },
  {
   "cell_type": "code",
   "execution_count": 22,
   "metadata": {},
   "outputs": [],
   "source": [
    "sent_vecs = {}\n",
    "for doc in nlp_en.pipe(bng_news_text,n_threads=16,batch_size=1024):\n",
    "    tokens = [preprocess_token(token) for token in doc if is_token_allowed(token)]\n",
    "    clean_doc = nlp_en(\" \".join([x for x in tokens]))\n",
    "    sent_vecs.update({doc: clean_doc.vector})"
   ]
  },
  {
   "cell_type": "code",
   "execution_count": 23,
   "metadata": {},
   "outputs": [
    {
     "name": "stdout",
     "output_type": "stream",
     "text": [
      "Time taken to get all sentence vectors after preprocessing: 1.0252 minutes\n"
     ]
    }
   ],
   "source": [
    "time_end = time.time()\n",
    "print(\"Time taken to get all sentence vectors after preprocessing: \"+compute_time_difference(time_start, time_end))"
   ]
  },
  {
   "cell_type": "code",
   "execution_count": 24,
   "metadata": {},
   "outputs": [
    {
     "name": "stdout",
     "output_type": "stream",
     "text": [
      "Headline and Embedding size samples:\n"
     ]
    },
    {
     "data": {
      "text/plain": [
       "[(Double murder in Devanahalli, 300),\n",
       " (Bangalore Utsav turns the spotlight on local artistes and art forms, 300),\n",
       " (Ex-cricketers' club on BBMP ground cleared, 300),\n",
       " (Kids all set to have fun judging movies, 300)]"
      ]
     },
     "execution_count": 24,
     "metadata": {},
     "output_type": "execute_result"
    }
   ],
   "source": [
    "print(\"Headline and Embedding size samples:\")\n",
    "random.seed(0)\n",
    "random.sample(list({(k,len(v)) for k,v in sent_vecs.items()}), k=4)"
   ]
  },
  {
   "cell_type": "code",
   "execution_count": 25,
   "metadata": {},
   "outputs": [
    {
     "name": "stdout",
     "output_type": "stream",
     "text": [
      "Embedding array sample:\n"
     ]
    },
    {
     "data": {
      "text/plain": [
       "[(Certified corruption,\n",
       "  array([-5.45729995e-01, -3.04504991e-01,  5.59735000e-01,  9.71225053e-02,\n",
       "          4.43449974e-01, -8.58057514e-02,  2.44004011e-01, -4.06399012e-01,\n",
       "         -9.47499946e-02,  2.05749989e+00,  8.76154974e-02, -3.37065011e-01,\n",
       "         -9.69850048e-02, -2.96199918e-02, -7.74525046e-01, -3.78271997e-01,\n",
       "          2.97470003e-01,  9.54682469e-01, -7.75599927e-02,  6.71000034e-02,\n",
       "          1.79998502e-01, -2.30628997e-01,  2.45200023e-02, -7.65900016e-02,\n",
       "          1.27789974e-01, -5.11240005e-01, -3.44124496e-01,  2.05085009e-01,\n",
       "          2.45322496e-01, -9.05299932e-02,  9.51260030e-02,  2.50894994e-01,\n",
       "         -9.43187550e-02, -4.76950034e-02, -3.16567004e-01,  3.56040001e-01,\n",
       "         -3.88920486e-01,  4.23260003e-01, -9.49724540e-02, -4.92190003e-01,\n",
       "          5.01099974e-02,  3.02891523e-01,  1.33179992e-01, -1.55169994e-01,\n",
       "         -3.13044995e-01,  1.17324993e-01,  2.97836989e-01,  4.46539998e-01,\n",
       "         -5.18599972e-02,  8.74600038e-02,  1.32348001e-01,  3.71941984e-01,\n",
       "          9.34550017e-02,  1.20410010e-01,  3.72249931e-02,  1.76875502e-01,\n",
       "          1.08723998e-01,  1.24813005e-01, -5.69150001e-02, -1.45949513e-01,\n",
       "         -1.94350034e-02, -2.61610001e-01, -2.10896000e-01, -9.87650007e-02,\n",
       "          2.42006987e-01,  2.39680007e-01, -8.10499936e-02, -2.45341510e-01,\n",
       "          8.45049992e-02, -2.64725000e-01, -2.52879977e-01, -3.88550162e-02,\n",
       "          1.08922496e-01,  5.12145013e-02,  2.26750001e-01, -1.19447999e-01,\n",
       "         -2.13399991e-01,  1.11189991e-01,  3.75319980e-02,  1.15456507e-01,\n",
       "         -6.10300004e-02, -9.01550055e-02, -3.33194993e-02, -5.05799949e-02,\n",
       "         -3.34614992e-01, -2.83973992e-01, -2.93905020e-01, -1.94964975e-01,\n",
       "         -1.76556498e-01,  6.79749995e-02,  5.96319973e-01, -2.50474006e-01,\n",
       "          8.80225003e-02, -1.08075500e-01,  2.19029993e-01, -1.90504998e-01,\n",
       "         -2.69079983e-01,  2.56650984e-01, -1.89699978e-02, -2.46941492e-01,\n",
       "         -1.93770006e-01, -6.95990026e-02, -4.42450047e-02, -2.22344488e-01,\n",
       "         -1.80631995e-01, -1.33872008e+00, -2.86935002e-01,  3.05370003e-01,\n",
       "          7.18249977e-02, -2.48129983e-02, -2.68428177e-01,  4.21400011e-01,\n",
       "          2.50744998e-01, -2.86244005e-01, -3.18860024e-01,  2.56760009e-02,\n",
       "          2.08185017e-01,  2.72409976e-01,  6.38350025e-02, -2.44819745e-01,\n",
       "         -2.38804996e-01,  3.35844994e-01, -2.58735001e-01, -2.82725006e-01,\n",
       "          6.37999997e-02,  7.40950033e-02,  7.24859983e-02, -1.15485005e-01,\n",
       "         -3.35940003e-01, -8.14064965e-02, -2.43009999e-01,  1.80624992e-01,\n",
       "         -6.84249997e-02, -6.89998269e-04,  2.67778486e-01, -1.69950008e-01,\n",
       "          3.36965024e-01, -1.72849894e-02, -2.32510008e-02,  3.54719996e-01,\n",
       "          3.83000076e-02, -1.86150074e-02,  6.68815017e-01,  4.42114994e-02,\n",
       "          3.18374991e-01, -3.06546509e-01,  1.06267497e-01,  2.95719981e-01,\n",
       "         -2.36710012e-01, -2.01350003e-02, -6.78450018e-02, -1.17397100e-01,\n",
       "         -5.66500053e-02, -2.24009007e-01,  7.86385000e-01,  2.22715497e-01,\n",
       "         -2.37409994e-01,  2.98394978e-01, -1.04155995e-01,  8.30074996e-02,\n",
       "          8.28785002e-02,  4.46590006e-01,  4.39624995e-01,  3.54829997e-01,\n",
       "         -1.26900002e-02, -1.00905001e-01, -3.58512998e-01, -9.58909988e-01,\n",
       "         -4.45249900e-02, -5.18234968e-02, -1.10890001e-01, -2.25860000e-01,\n",
       "          1.09005012e-02,  5.79530001e-01, -1.73005000e-01,  1.85263306e-01,\n",
       "         -3.11735012e-02, -7.62834996e-02,  1.91430002e-01,  3.07880014e-01,\n",
       "          2.91809976e-01,  1.94270000e-01, -1.69275001e-01, -1.77251995e-01,\n",
       "         -1.95519999e-01,  1.27528995e-01, -1.58344984e-01,  2.32890010e-01,\n",
       "          1.31225005e-01,  1.14960998e-01, -2.45594993e-01, -4.24059987e-01,\n",
       "          4.15499955e-02, -3.00234973e-01,  1.09777004e-01,  1.39238000e-01,\n",
       "         -4.89549935e-02,  2.60919988e-01,  2.36595005e-01,  2.97994971e-01,\n",
       "          1.11249998e-01, -1.26264989e-01, -3.44424993e-01,  3.78794998e-01,\n",
       "         -2.68539995e-01, -3.47874999e-01,  3.83715004e-01,  6.27645016e-01,\n",
       "          1.26709998e-01, -2.90764980e-02, -1.17264993e-01, -9.31600034e-02,\n",
       "          1.06799975e-02, -3.11929956e-02,  3.57903510e-01, -7.70350099e-02,\n",
       "         -1.37753010e-01, -3.02890003e-01, -3.11064988e-01,  5.75609989e-02,\n",
       "         -3.90935004e-01,  6.02350011e-02,  7.47299939e-02, -2.09400013e-01,\n",
       "         -1.60085008e-01,  3.50080013e-01, -7.29200095e-02,  4.03005004e-01,\n",
       "         -1.71425000e-01,  1.36196002e-01, -1.11450031e-02, -5.24450019e-02,\n",
       "          1.07023001e-01,  4.72615004e-01, -2.59965003e-01,  2.10082501e-01,\n",
       "         -7.66070038e-02, -4.28790957e-01, -3.25994998e-01, -1.06684007e-01,\n",
       "          3.88635010e-01, -4.30409998e-01,  1.50775000e-01, -1.97169989e-01,\n",
       "         -1.67172000e-01,  5.40449992e-02,  2.91714996e-01,  1.15173504e-01,\n",
       "         -2.59819984e-01,  2.76084989e-01,  4.78805006e-01,  3.17560017e-01,\n",
       "          1.17725000e-01, -2.38410011e-02,  2.56117016e-01, -8.80754963e-02,\n",
       "          2.30560005e-01, -2.01114997e-01, -1.37449987e-02,  1.75375000e-01,\n",
       "          3.00684988e-01,  1.33087009e-01,  1.66879997e-01,  6.75550029e-02,\n",
       "         -4.52054024e-01, -4.11534995e-01, -2.84655005e-01, -3.92244995e-01,\n",
       "          6.67119980e-01, -7.17545003e-02,  4.67679977e-01,  6.46200031e-03,\n",
       "         -1.35920011e-02,  3.15134019e-01,  1.36019990e-01,  1.19059980e-01,\n",
       "         -1.70949489e-01,  6.99560046e-01, -1.28035009e-01, -1.74769998e-01,\n",
       "         -1.89149976e-02, -4.46524978e-01,  3.62226993e-01, -2.19769984e-01,\n",
       "          7.56350011e-02, -4.24859971e-02, -4.67041492e-01,  5.22334993e-01,\n",
       "         -1.64335504e-01, -2.97879994e-01,  3.37695003e-01,  3.04674983e-01,\n",
       "          1.50835007e-01, -2.01299995e-01, -5.75179994e-01,  1.78994998e-01,\n",
       "          4.03925002e-01, -3.33677977e-01,  3.00049931e-02,  6.84509948e-02],\n",
       "        dtype=float32))]"
      ]
     },
     "execution_count": 25,
     "metadata": {},
     "output_type": "execute_result"
    }
   ],
   "source": [
    "print(\"Embedding array sample:\")\n",
    "random.seed(0)\n",
    "random.sample(list(sent_vecs.items()), k=1)"
   ]
  },
  {
   "cell_type": "code",
   "execution_count": null,
   "metadata": {},
   "outputs": [],
   "source": [
    "sentences = list(se)"
   ]
  },
  {
   "cell_type": "code",
   "execution_count": 26,
   "metadata": {},
   "outputs": [
    {
     "name": "stdout",
     "output_type": "stream",
     "text": [
      "Total time taken to run the entire notebook: 1.16 minutes\n"
     ]
    }
   ],
   "source": [
    "# Total Notebook Run: End Time\n",
    "total_time_end = time.time()\n",
    "print(\"Total time taken to run the entire notebook: \"+compute_time_difference(total_time_start, total_time_end))"
   ]
  },
  {
   "cell_type": "code",
   "execution_count": null,
   "metadata": {},
   "outputs": [],
   "source": []
  }
 ],
 "metadata": {
  "kernelspec": {
   "display_name": "Python 3",
   "language": "python",
   "name": "python3"
  },
  "language_info": {
   "codemirror_mode": {
    "name": "ipython",
    "version": 3
   },
   "file_extension": ".py",
   "mimetype": "text/x-python",
   "name": "python",
   "nbconvert_exporter": "python",
   "pygments_lexer": "ipython3",
   "version": "3.8.5"
  }
 },
 "nbformat": 4,
 "nbformat_minor": 4
}
